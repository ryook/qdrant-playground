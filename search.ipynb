{
 "cells": [
  {
   "cell_type": "code",
   "execution_count": 3,
   "id": "ad1d2b57",
   "metadata": {},
   "outputs": [],
   "source": [
    "import requests\n",
    "\n",
    "def encode(sentences: list[str]) -> list[list[float]]:\n",
    "    res = requests.post(\"http://localhost:8080/encode\", json={\"sentences\": sentences})\n",
    "\n",
    "    if res.status_code != 200:\n",
    "        res.raise_for_status()\n",
    "\n",
    "    res_body = res.json()\n",
    "    embeddings = res_body[\"embeddings\"]\n",
    "\n",
    "    if len(sentences) != len(embeddings):\n",
    "        raise Exception(\"sentencesとEmbeddingAPIのレスポンスの数が一致しません。\")\n",
    "\n",
    "    return embeddings"
   ]
  },
  {
   "cell_type": "code",
   "execution_count": 20,
   "id": "db5b4224",
   "metadata": {},
   "outputs": [
    {
     "data": {
      "text/plain": [
       "[ScoredPoint(id=32, version=1, score=0.4247976, payload={'label': '0', 'text': 'すずらん\\n\\nまだ 届かず どうなってんのか❔Amazonで たのまなかったら よかった'}, vector=None),\n",
       " ScoredPoint(id=89, version=1, score=0.4237734, payload={'label': '0', 'text': '体は少し嫌な感覚が感じました\\n\\nニカッ月に使用し続けていたが、体は少し嫌な感覚が感じましたが、とても悪い体験があった。'}, vector=None),\n",
       " ScoredPoint(id=44, version=1, score=0.42211622, payload={'label': '0', 'text': 'こんな水臭い20世紀はじめて！\\n\\n先にレビューを見ればよかった！ こんなにも水臭い20世紀梨はじめて食べた、レビューにあったように、二十世紀でこんなにもまずいのがあるとは思わなかった。 アマゾンもベストセラーとかかくなよしかも一番目に、そういえば、先日も花咲蟹で一番目に出ていたのを買ったのも、あんなまずい、甘みのない花咲蟹もはじめて食べた、マヨネーズに砂糖を入れ食べないとにがみがあって。アマゾンで当分食べ物はやめとく。'}, vector=None),\n",
       " ScoredPoint(id=25, version=1, score=0.4028293, payload={'label': '0', 'text': 'がっかりです、、、\\n\\nレビューを読み、覚悟で購入しました。が、やはり匂いが変わってしまっていました。 以前に使っていた時はとても優しい香りで気に入っていたのですが、こうもきつい匂いに変わってしまって残念でなりません。 苦手なダウニーを思い出させる匂いです。どうか以前の香りに戻して欲しいです。 以前は香りが薄っすらでしたので規定量より多めに使っていましたが、今のは規定量の半分でもきついです。 残念ですが、破棄することになりそうです。'}, vector=None),\n",
       " ScoredPoint(id=9, version=1, score=0.38302654, payload={'label': '0', 'text': '歌はいいんじゃないかと思います\\n\\n新品未開封の品を注文したのにケースの内外に汚れや傷、指紋が付着していて萎えました。 ビニールだけ綺麗にかぶせた感じで、裏切られた気分です。 いや、外側のカバーだけなら、ビニールに入っていても細かい傷は付くかもしれませんけどね。 指紋も百歩譲って気づかない内に自分で付けてたとして。 それでも、カバーに納まっている内側のケースに明らかな汚れ、さらにケースを開いた内部に目立つ傷があるってのは、もうダメでしょ… 速攻で返品申請。 なのでCDはまだ聞いていませんが、歌はすごく良いです。 元気がもらえるノリのいい曲で、自分は普段、関ジャニとかあまり聴かないのですが、映画を見ていて一発で気に入りました。 なので、本当に残念。 すぐに聴きたくて買ったのに悔しいです。 歌だけなら星５です。 でも新品の商品としてこれを売っていたと言う事でレビューは星１です。'}, vector=None),\n",
       " ScoredPoint(id=17, version=1, score=0.37991875, payload={'label': '0', 'text': '異臭がひどい\\n\\n機械部分からの異臭が酷くて、とても不快な思いをしました。素敵なデザインだっただけに残念です。'}, vector=None),\n",
       " ScoredPoint(id=40, version=1, score=0.3774237, payload={'label': '0', 'text': 'サイズって重要\\n\\nこれも小さい(笑) 頭がデカいと本当に苦労しますね ダメ元で買ってみたんですが… 小柄な人なら良いと思います'}, vector=None),\n",
       " ScoredPoint(id=71, version=1, score=0.373519, payload={'label': '0', 'text': '一回で\\n\\n残念ですが、子供が体重をかけたら一回で折れてしまいました。。'}, vector=None),\n",
       " ScoredPoint(id=8, version=1, score=0.3693306, payload={'label': '0', 'text': 'とても悲しい。\\n\\n子供の遠足の為に注文しました。大好きなピンクで三点セット。可愛いぬいぐるみも付いているとの事で、楽しみにしていましたが、いざ届いて開けてみると.. くまのぬいぐるみの目が１つないのです.. 怖いのなんの..そんなぬいぐるみを見てしまった娘はとにかく泣きました。可愛そうで可愛そうで..残念だったので星は１つにしました。'}, vector=None),\n",
       " ScoredPoint(id=46, version=1, score=0.35598272, payload={'label': '0', 'text': '人工甘味料が\\n\\n最初は飲みやすく美味しいと思ったのですが、途中から飲んだ後吐き気がくるようになってしまい…人工甘味料のステビアが合わないのか？ 理由はわかりませんが、トラウマから飲めなくなってしまいました(><) プロテインにしては飲みやすい方ではありますが… 同じような方いますか？'}, vector=None)]"
      ]
     },
     "execution_count": 20,
     "metadata": {},
     "output_type": "execute_result"
    }
   ],
   "source": [
    "from qdrant_client import QdrantClient\n",
    "collection_name = \"amazon_review\"\n",
    "client = QdrantClient(host=\"localhost\", port=6333)\n",
    "\n",
    "\n",
    "query = \"なんかいい感じでした\"\n",
    "query_vector = encode([query])[0]\n",
    "client.search(collection_name=collection_name, query_vector=query_vector)"
   ]
  },
  {
   "cell_type": "code",
   "execution_count": 30,
   "id": "c3e7cd4d",
   "metadata": {},
   "outputs": [
    {
     "data": {
      "text/plain": [
       "[ScoredPoint(id=1747, version=18, score=0.6678374, payload={'label': '1', 'text': '本物らしく見える\\n\\nかわいいかったです。また付けてはいませんが、おもったよりよかった'}, vector=None),\n",
       " ScoredPoint(id=1778, version=18, score=0.605243, payload={'label': '1', 'text': 'いまいちでした。\\n\\nうっかりクリックしましたが、味が他といまいちってかんじですね。'}, vector=None),\n",
       " ScoredPoint(id=1600, version=16, score=0.58639336, payload={'label': '1', 'text': 'ギラギラ\\n\\n見た目良さそうなので買いましたがギラギラしすぎて 親父に向いていないかも？'}, vector=None)]"
      ]
     },
     "execution_count": 30,
     "metadata": {},
     "output_type": "execute_result"
    }
   ],
   "source": [
    "from qdrant_client.models import Filter, FieldCondition, MatchValue\n",
    "\n",
    "\n",
    "client.search(\n",
    "    collection_name=collection_name, \n",
    "    query_vector=query_vector, \n",
    "    query_filter=Filter(\n",
    "        must=[\n",
    "            FieldCondition(key=\"label\", match=MatchValue(value=\"1\"))\n",
    "        ]\n",
    "    ),\n",
    "    limit = 3\n",
    ")"
   ]
  },
  {
   "cell_type": "code",
   "execution_count": 19,
   "id": "561df4b7",
   "metadata": {},
   "outputs": [
    {
     "data": {
      "text/plain": [
       "[]"
      ]
     },
     "execution_count": 19,
     "metadata": {},
     "output_type": "execute_result"
    }
   ],
   "source": [
    "from qdrant_client.models import Filter, FieldCondition, MatchValue, MatchText\n",
    "\n",
    "client.search(\n",
    "    collection_name=collection_name, \n",
    "    query_vector=query_vector, \n",
    "        query_filter=Filter(\n",
    "        must=[\n",
    "            FieldCondition(key=\"text\", match=MatchText(text=\"砂糖\"))\n",
    "        ]\n",
    "    ),\n",
    "    limit = 3\n",
    ")\n"
   ]
  },
  {
   "cell_type": "code",
   "execution_count": null,
   "id": "1d012c20",
   "metadata": {},
   "outputs": [],
   "source": []
  }
 ],
 "metadata": {
  "kernelspec": {
   "display_name": "Python 3 (ipykernel)",
   "language": "python",
   "name": "python3"
  },
  "language_info": {
   "codemirror_mode": {
    "name": "ipython",
    "version": 3
   },
   "file_extension": ".py",
   "mimetype": "text/x-python",
   "name": "python",
   "nbconvert_exporter": "python",
   "pygments_lexer": "ipython3",
   "version": "3.11.4"
  }
 },
 "nbformat": 4,
 "nbformat_minor": 5
}
